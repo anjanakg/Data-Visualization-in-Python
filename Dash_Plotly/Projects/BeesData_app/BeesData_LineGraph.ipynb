{
 "cells": [
  {
   "cell_type": "markdown",
   "metadata": {},
   "source": [
    "Use plotly express to plot a Bar chart instead of a choropleth map.\n",
    "X-axis should represent States\n",
    "Y-axis should represent % of bee colonies "
   ]
  },
  {
   "cell_type": "code",
   "execution_count": 1,
   "metadata": {},
   "outputs": [],
   "source": [
    "import pandas as pd\n",
    "import plotly.express as px  \n",
    "\n",
    "import dash  \n",
    "from dash import dcc\n",
    "from dash import html\n",
    "from dash.dependencies import Input, Output"
   ]
  },
  {
   "cell_type": "code",
   "execution_count": 3,
   "metadata": {},
   "outputs": [
    {
     "name": "stdout",
     "output_type": "stream",
     "text": [
      "     State  ANSI Affected by  Year state_code  Pct of Colonies Impacted\n",
      "0  Alabama     1     Disease  2015         AL                      0.05\n",
      "1  Alabama     1     Disease  2016         AL                      1.20\n",
      "2  Alabama     1     Disease  2017         AL                      2.25\n",
      "3  Alabama     1     Disease  2018         AL                      1.30\n",
      "4  Alabama     1     Disease  2019         AL                      1.80\n"
     ]
    },
    {
     "data": {
      "text/html": [
       "\n",
       "        <iframe\n",
       "            width=\"100%\"\n",
       "            height=\"650\"\n",
       "            src=\"http://127.0.0.1:8062/\"\n",
       "            frameborder=\"0\"\n",
       "            allowfullscreen\n",
       "            \n",
       "        ></iframe>\n",
       "        "
      ],
      "text/plain": [
       "<IPython.lib.display.IFrame at 0x17937ad6190>"
      ]
     },
     "metadata": {},
     "output_type": "display_data"
    },
    {
     "name": "stdout",
     "output_type": "stream",
     "text": [
      "Pesticides\n",
      "<class 'str'>\n",
      "Pesticides\n",
      "<class 'str'>\n"
     ]
    }
   ],
   "source": [
    "app = dash.Dash(__name__)\n",
    "\n",
    "# ------------------------------------------------------------------------------\n",
    "# Import and clean data (importing csv into pandas)\n",
    "df = pd.read_csv(\"intro_bees.csv\")\n",
    "\n",
    "df = df.groupby(['State', 'ANSI', 'Affected by', 'Year', 'state_code'])[['Pct of Colonies Impacted']].mean()\n",
    "df.reset_index(inplace=True)\n",
    "print(df[:5])\n",
    "\n",
    "bee_killers = [\"Disease\", \"Other\", \"Pesticides\", \"Pests_excl_Varroa\", \"Unknown\", \"Varroa_mites\"]\n",
    "\n",
    "# ------------------------------------------------------------------------------\n",
    "# App layout\n",
    "app.layout = html.Div([\n",
    "\n",
    "    html.H1(\"Web Application Dashboards with Dash\", style={'text-align': 'center'}),\n",
    "\n",
    "    dcc.Dropdown(id=\"slct_impact\",\n",
    "                 options=[{\"label\": x, \"value\":x} for x in bee_killers],\n",
    "                 value=\"Pesticides\",\n",
    "                 multi=False,\n",
    "                 style={'width': \"40%\"}\n",
    "                 ),\n",
    "\n",
    "    html.Div(id='output_container', children=[]),\n",
    "    html.Br(),\n",
    "\n",
    "    dcc.Graph(id='my_bee_map', figure={})\n",
    "\n",
    "])\n",
    "\n",
    "\n",
    "# ------------------------------------------------------------------------------\n",
    "# Connect the Plotly graphs with Dash Components\n",
    "@app.callback(\n",
    "    [Output(component_id='output_container', component_property='children'),\n",
    "     Output(component_id='my_bee_map', component_property='figure')],\n",
    "    [Input(component_id='slct_impact', component_property='value')]\n",
    ")\n",
    "def update_graph(option_slctd):\n",
    "    print(option_slctd)\n",
    "    print(type(option_slctd))\n",
    "\n",
    "    container = \"The bee-killer chosen by user was: {}\".format(option_slctd)\n",
    "\n",
    "    dff = df.copy()\n",
    "    dff = dff[dff[\"Affected by\"] == option_slctd]\n",
    "    dff = dff[(dff[\"State\"] == \"Idaho\") | (dff[\"State\"] == \"New York\") | (dff[\"State\"] == \"New Mexico\")]\n",
    "\n",
    "    fig = px.line(\n",
    "        data_frame=dff,\n",
    "        x='Year',\n",
    "        y='Pct of Colonies Impacted',\n",
    "        color='State',\n",
    "        template='plotly_dark'\n",
    "    )\n",
    "\n",
    "    return container, fig\n",
    "\n",
    "\n",
    "# ------------------------------------------------------------------------------\n",
    "if __name__ == '__main__':\n",
    "    app.run_server(debug=True, port=8062)\n"
   ]
  }
 ],
 "metadata": {
  "kernelspec": {
   "display_name": "Python 3",
   "language": "python",
   "name": "python3"
  },
  "language_info": {
   "codemirror_mode": {
    "name": "ipython",
    "version": 3
   },
   "file_extension": ".py",
   "mimetype": "text/x-python",
   "name": "python",
   "nbconvert_exporter": "python",
   "pygments_lexer": "ipython3",
   "version": "3.11.9"
  }
 },
 "nbformat": 4,
 "nbformat_minor": 2
}
